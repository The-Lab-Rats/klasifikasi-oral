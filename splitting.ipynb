{
 "cells": [
  {
   "cell_type": "code",
   "execution_count": 1,
   "id": "4d19ab05-f0a3-460c-a9c0-27aa60479cf1",
   "metadata": {},
   "outputs": [],
   "source": [
    "import splitfolders"
   ]
  },
  {
   "cell_type": "code",
   "execution_count": 2,
   "id": "73afe5af-a989-4688-a78c-a4e142a9aada",
   "metadata": {},
   "outputs": [],
   "source": [
    "!mkdir \"dataset_split\""
   ]
  },
  {
   "cell_type": "code",
   "execution_count": 3,
   "id": "2c680779-456c-418f-9686-d625268490d3",
   "metadata": {},
   "outputs": [],
   "source": [
    "splitfolders.ratio(\"dataset\",\n",
    "                   output=\"dataset_split\",\n",
    "                   ratio=(.7, .2, .1),\n",
    "                   seed=721,\n",
    "                   group_prefix=None)"
   ]
  }
 ],
 "metadata": {
  "kernelspec": {
   "display_name": "Python 3 (ipykernel)",
   "language": "python",
   "name": "python3"
  },
  "language_info": {
   "codemirror_mode": {
    "name": "ipython",
    "version": 3
   },
   "file_extension": ".py",
   "mimetype": "text/x-python",
   "name": "python",
   "nbconvert_exporter": "python",
   "pygments_lexer": "ipython3",
   "version": "3.9.17"
  }
 },
 "nbformat": 4,
 "nbformat_minor": 5
}
